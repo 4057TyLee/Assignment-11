{
 "cells": [
  {
   "cell_type": "code",
   "execution_count": 2,
   "id": "c222cd92-713f-4ef8-afdb-feff2efc82fe",
   "metadata": {},
   "outputs": [
    {
     "ename": "SyntaxError",
     "evalue": "invalid syntax (3595437896.py, line 5)",
     "output_type": "error",
     "traceback": [
      "\u001b[0;36m  Input \u001b[0;32mIn [2]\u001b[0;36m\u001b[0m\n\u001b[0;31m    elif year % 100 != 0\u001b[0m\n\u001b[0m                        ^\u001b[0m\n\u001b[0;31mSyntaxError\u001b[0m\u001b[0;31m:\u001b[0m invalid syntax\n"
     ]
    }
   ],
   "source": [
    "year = int(input(\"enter a year please: \"))\n",
    "\n",
    "if i in year :\n",
    "    year % 4 == 0\n",
    "elif year % 100 != 0\n",
    "elif year % 400 == 0\n",
    "    print(f'{year} is a leap year.)\n",
    "else :\n",
    "    print(f'{year} is not a leap year.')"
   ]
  },
  {
   "cell_type": "code",
   "execution_count": null,
   "id": "af28c094-3f8a-48e7-bc9c-e52f727a5246",
   "metadata": {},
   "outputs": [],
   "source": [
    "year = int(input(\"Please enter a year: \"))\n",
    "if not year % 400 or (not year % 4 and year % 100):\n",
    "    print(f\"{year} is a leap year\")\n",
    "else:\n",
    "    print(f\"{year} is not a leap year\")"
   ]
  },
  {
   "cell_type": "code",
   "execution_count": null,
   "id": "d1a3a019-8006-4346-b8fa-e158de4fd732",
   "metadata": {},
   "outputs": [],
   "source": []
  }
 ],
 "metadata": {
  "kernelspec": {
   "display_name": "Python 3 (ipykernel)",
   "language": "python",
   "name": "python3"
  },
  "language_info": {
   "codemirror_mode": {
    "name": "ipython",
    "version": 3
   },
   "file_extension": ".py",
   "mimetype": "text/x-python",
   "name": "python",
   "nbconvert_exporter": "python",
   "pygments_lexer": "ipython3",
   "version": "3.9.12"
  }
 },
 "nbformat": 4,
 "nbformat_minor": 5
}
